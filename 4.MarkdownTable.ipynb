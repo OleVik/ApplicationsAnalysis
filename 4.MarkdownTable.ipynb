{
 "cells": [
  {
   "cell_type": "markdown",
   "metadata": {},
   "source": [
    "# Generate Markdown Table\n",
    "Iterates over the saved data from the ETL routine, selecting the following columns: 'Employer', 'Lang', 'Date', 'Shortest Sentence', 'Longest Sentence', 'Words', 'Readability Consensus'. These are then saved as a table, in Markdown format, in 'table.md'."
   ]
  },
  {
   "cell_type": "code",
   "execution_count": 1,
   "metadata": {
    "collapsed": false
   },
   "outputs": [],
   "source": [
    "# Data handling, structures and analysis tools, SQLite database interface\n",
    "import pandas as pd\n",
    "import sqlite3\n",
    "\n",
    "# Default options\n",
    "x_variable = 'modification_date'"
   ]
  },
  {
   "cell_type": "code",
   "execution_count": 2,
   "metadata": {
    "collapsed": false
   },
   "outputs": [
    {
     "data": {
      "text/html": [
       "<div>\n",
       "<table border=\"1\" class=\"dataframe\">\n",
       "  <thead>\n",
       "    <tr style=\"text-align: right;\">\n",
       "      <th></th>\n",
       "      <th>Title</th>\n",
       "      <th>Readability</th>\n",
       "      <th>Words</th>\n",
       "      <th>Sentences</th>\n",
       "      <th>Interview</th>\n",
       "      <th>Offer</th>\n",
       "      <th>Reply</th>\n",
       "      <th>Date</th>\n",
       "    </tr>\n",
       "  </thead>\n",
       "  <tbody>\n",
       "    <tr>\n",
       "      <th>0</th>\n",
       "      <td>HiOA</td>\n",
       "      <td>18th and 19th grade</td>\n",
       "      <td>227.0</td>\n",
       "      <td>10.0</td>\n",
       "      <td>0</td>\n",
       "      <td>0</td>\n",
       "      <td>0</td>\n",
       "      <td>2016-10-29 15:03:42</td>\n",
       "    </tr>\n",
       "    <tr>\n",
       "      <th>1</th>\n",
       "      <td>Universitetet i Oslo, Studiekonsulent</td>\n",
       "      <td>18th and 19th grade</td>\n",
       "      <td>237.0</td>\n",
       "      <td>11.0</td>\n",
       "      <td>0</td>\n",
       "      <td>0</td>\n",
       "      <td>0</td>\n",
       "      <td>2016-10-04 13:56:19</td>\n",
       "    </tr>\n",
       "    <tr>\n",
       "      <th>2</th>\n",
       "      <td>Hemnes Kommune</td>\n",
       "      <td>13th and 14th grade</td>\n",
       "      <td>226.0</td>\n",
       "      <td>12.0</td>\n",
       "      <td>0</td>\n",
       "      <td>0</td>\n",
       "      <td>0</td>\n",
       "      <td>2016-10-02 13:50:58</td>\n",
       "    </tr>\n",
       "    <tr>\n",
       "      <th>3</th>\n",
       "      <td>Universitetet i Agder, Rådgiver</td>\n",
       "      <td>13th and 14th grade</td>\n",
       "      <td>217.0</td>\n",
       "      <td>10.0</td>\n",
       "      <td>0</td>\n",
       "      <td>0</td>\n",
       "      <td>0</td>\n",
       "      <td>2016-09-27 15:08:28</td>\n",
       "    </tr>\n",
       "    <tr>\n",
       "      <th>4</th>\n",
       "      <td>Buskerud Fylkeskommune</td>\n",
       "      <td>11th and 12th grade</td>\n",
       "      <td>250.0</td>\n",
       "      <td>16.0</td>\n",
       "      <td>0</td>\n",
       "      <td>0</td>\n",
       "      <td>0</td>\n",
       "      <td>2016-09-15 15:21:50</td>\n",
       "    </tr>\n",
       "  </tbody>\n",
       "</table>\n",
       "</div>"
      ],
      "text/plain": [
       "                                   Title          Readability  Words  \\\n",
       "0                                   HiOA  18th and 19th grade  227.0   \n",
       "1  Universitetet i Oslo, Studiekonsulent  18th and 19th grade  237.0   \n",
       "2                         Hemnes Kommune  13th and 14th grade  226.0   \n",
       "3        Universitetet i Agder, Rådgiver  13th and 14th grade  217.0   \n",
       "4                 Buskerud Fylkeskommune  11th and 12th grade  250.0   \n",
       "\n",
       "   Sentences  Interview  Offer  Reply                Date  \n",
       "0       10.0          0      0      0 2016-10-29 15:03:42  \n",
       "1       11.0          0      0      0 2016-10-04 13:56:19  \n",
       "2       12.0          0      0      0 2016-10-02 13:50:58  \n",
       "3       10.0          0      0      0 2016-09-27 15:08:28  \n",
       "4       16.0          0      0      0 2016-09-15 15:21:50  "
      ]
     },
     "execution_count": 2,
     "metadata": {},
     "output_type": "execute_result"
    }
   ],
   "source": [
    "# Read database, attach as Pandas dataframe sorted by date\n",
    "db = sqlite3.connect(\"Data/Applications.db\")\n",
    "columns = 'Title, Readability, Words, Sentences, Interview, Offer, Reply, modification_date'\n",
    "df = pd.read_sql_query('SELECT ' + columns + ' FROM applications ORDER BY Date(' + x_variable + ') DESC', db)\n",
    "db.close()\n",
    "\n",
    "# Cast `modification_date` as DateTime, then drop `modification_date`-column\n",
    "df['Date'] = pd.to_datetime(df['modification_date'], unit='s')\n",
    "df = df.drop('modification_date', 1)\n",
    "\n",
    "df.head()"
   ]
  },
  {
   "cell_type": "code",
   "execution_count": 3,
   "metadata": {
    "collapsed": false
   },
   "outputs": [
    {
     "name": "stdout",
     "output_type": "stream",
     "text": [
      "Saved Data/table.md.\n"
     ]
    }
   ],
   "source": [
    "# Parse Dataframe and apply Markdown\n",
    "cols = df.columns\n",
    "df2 = pd.DataFrame([['---','---','---','---','---','---','---','---']], columns=cols)\n",
    "df3 = pd.concat([df2, df])\n",
    "\n",
    "# Save table to .md-file\n",
    "try:\n",
    "    df3.to_csv('Data/table.md', sep=\"|\", index=False)\n",
    "    pass\n",
    "except IOError as e:\n",
    "    print (e)\n",
    "    pass\n",
    "finally:\n",
    "    print ('Saved Data/table.md.')"
   ]
  }
 ],
 "metadata": {
  "kernelspec": {
   "display_name": "Python 3",
   "language": "python",
   "name": "python3"
  },
  "language_info": {
   "codemirror_mode": {
    "name": "ipython",
    "version": 3
   },
   "file_extension": ".py",
   "mimetype": "text/x-python",
   "name": "python",
   "nbconvert_exporter": "python",
   "pygments_lexer": "ipython3",
   "version": "3.5.2"
  }
 },
 "nbformat": 4,
 "nbformat_minor": 0
}
