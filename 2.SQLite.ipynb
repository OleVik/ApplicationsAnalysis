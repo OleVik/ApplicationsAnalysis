{
 "cells": [
  {
   "cell_type": "markdown",
   "metadata": {},
   "source": [
    "# Export JSON to SQLite"
   ]
  },
  {
   "cell_type": "code",
   "execution_count": 1,
   "metadata": {
    "collapsed": true
   },
   "outputs": [],
   "source": [
    "# General packages: Operating System Interface, System-specific parameters and functions, \n",
    "# Regular expression operations, SQLite3 database, JSON capability, \n",
    "# Data structure and analysis tools, Unix style pathname pattern expansion\n",
    "import os, sys, re, sqlite3, json, pandas, glob\n",
    "\n",
    "# Ordered entries for dictionary-type\n",
    "from collections import OrderedDict\n",
    "\n",
    "# Date-parsing and manipulation\n",
    "import datetime\n",
    "import dateutil.parser"
   ]
  },
  {
   "cell_type": "markdown",
   "metadata": {},
   "source": [
    "## Read JSON-data"
   ]
  },
  {
   "cell_type": "code",
   "execution_count": 2,
   "metadata": {
    "collapsed": true
   },
   "outputs": [],
   "source": [
    "try:\n",
    "    with open('Data/Applications.json', 'r') as data_file:\n",
    "        data = json.load(data_file, object_pairs_hook=OrderedDict)\n",
    "    pass\n",
    "except IOError as e:\n",
    "    print (e)\n",
    "    pass"
   ]
  },
  {
   "cell_type": "markdown",
   "metadata": {},
   "source": [
    "## Export to DataFrame"
   ]
  },
  {
   "cell_type": "code",
   "execution_count": 3,
   "metadata": {
    "collapsed": false
   },
   "outputs": [],
   "source": [
    "df = pandas.DataFrame([], index=[], columns=['Title', 'Date', 'creation_date', 'modification_date', \n",
    "                                             'Interview', 'Offer', 'Reply', 'Words', 'Sentences', \n",
    "                                             'Lines', 'Readability', 'flesch_reading_ease', \n",
    "                                             'smog_index', 'flesch_kincaid_grade', \n",
    "                                             'coleman_liau_index', 'automated_readability_index', \n",
    "                                             'dale_chall_readability_score', 'difficult_words', \n",
    "                                             'linsear_write_formula', 'gunning_fog'])\n",
    "for index, item in data.items():\n",
    "    df.loc[index] = [item['Title'], \n",
    "                     item['Date'], \n",
    "                     item['creation_date'], \n",
    "                     item['modification_date'], \n",
    "                     item['Results']['Interview'], \n",
    "                     item['Results']['Offer'], \n",
    "                     item['Results']['Reply'],\n",
    "                     item['Descriptive']['Words'],\n",
    "                     item['Descriptive']['Sentences'],\n",
    "                     item['Descriptive']['Lines'],\n",
    "                     item['Analytical']['Readability']['text_standard'],\n",
    "                     item['Analytical']['Readability']['flesch_reading_ease'],\n",
    "                     item['Analytical']['Readability']['smog_index'],\n",
    "                     item['Analytical']['Readability']['flesch_kincaid_grade'],\n",
    "                     item['Analytical']['Readability']['coleman_liau_index'],\n",
    "                     item['Analytical']['Readability']['automated_readability_index'],\n",
    "                     item['Analytical']['Readability']['dale_chall_readability_score'],\n",
    "                     item['Analytical']['Readability']['difficult_words'],\n",
    "                     item['Analytical']['Readability']['linsear_write_formula'],\n",
    "                     item['Analytical']['Readability']['gunning_fog']\n",
    "                    ]"
   ]
  },
  {
   "cell_type": "markdown",
   "metadata": {},
   "source": [
    "## Write to SQLite"
   ]
  },
  {
   "cell_type": "code",
   "execution_count": 4,
   "metadata": {
    "collapsed": false
   },
   "outputs": [
    {
     "name": "stdout",
     "output_type": "stream",
     "text": [
      "Saved Data/Applications.db.\n"
     ]
    }
   ],
   "source": [
    "try:\n",
    "    db = sqlite3.connect('Data/Applications.db')\n",
    "    cur = db.cursor()\n",
    "    df.to_sql(name='applications', con=db, index=False, if_exists='replace')\n",
    "except Exception as e:\n",
    "    db.rollback()\n",
    "    raise e\n",
    "finally:\n",
    "    db.close()\n",
    "    print ('Saved Data/Applications.db.')"
   ]
  }
 ],
 "metadata": {
  "kernelspec": {
   "display_name": "Python 3",
   "language": "python",
   "name": "python3"
  },
  "language_info": {
   "codemirror_mode": {
    "name": "ipython",
    "version": 3
   },
   "file_extension": ".py",
   "mimetype": "text/x-python",
   "name": "python",
   "nbconvert_exporter": "python",
   "pygments_lexer": "ipython3",
   "version": "3.5.2"
  }
 },
 "nbformat": 4,
 "nbformat_minor": 0
}
