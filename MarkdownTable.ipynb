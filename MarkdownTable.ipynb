{
 "cells": [
  {
   "cell_type": "markdown",
   "metadata": {},
   "source": [
    "# Generate Markdown Table\n",
    "Iterates over the saved data from the ETL routine, selecting the following columns: 'Employer', 'Lang', 'Date', 'Shortest Sentence', 'Longest Sentence', 'Words', 'Readability Consensus'. These are then saved as a table, in Markdown format, in 'table.md'."
   ]
  },
  {
   "cell_type": "code",
   "execution_count": 1,
   "metadata": {
    "collapsed": false
   },
   "outputs": [],
   "source": [
    "# Enforce UTF-8 encoding\n",
    "import sys\n",
    "stdin, stdout = sys.stdin, sys.stdout\n",
    "reload(sys)\n",
    "sys.stdin, sys.stdout = stdin, stdout\n",
    "sys.setdefaultencoding('UTF-8')\n",
    "\n",
    "# SQLite3 database\n",
    "import sqlite3\n",
    "# Pandas: Data structures and data analysis tools\n",
    "import pandas as pd"
   ]
  },
  {
   "cell_type": "code",
   "execution_count": 2,
   "metadata": {
    "collapsed": false
   },
   "outputs": [],
   "source": [
    "# Read database, attach as Pandas dataframe\n",
    "db = sqlite3.connect(\"Applications.db\")\n",
    "df = pd.read_sql_query(\"SELECT path, language, date, shortest_sentence, longest_sentence, number_words, readability_consensus FROM applications ORDER BY date(date) DESC\", db)\n",
    "db.close()\n",
    "\n",
    "# Rename columns and transform 'Path' into 'Employer'\n",
    "df.columns = ['Employer', 'Lang', 'Date', 'Shortest Sentence', 'Longest Sentence', 'Words', 'Readability Consensus']\n",
    "df['Employer'] = df['Employer'].str.replace('data/Eng/', '')\n",
    "df['Employer'] = df['Employer'].str.replace('data/Nor/', '')\n",
    "df['Employer'] = df['Employer'].str.replace(' - Ole Vik.txt', '')"
   ]
  },
  {
   "cell_type": "code",
   "execution_count": 3,
   "metadata": {
    "collapsed": true
   },
   "outputs": [],
   "source": [
    "# Parse Dataframe and apply Markdown, then save as 'table.md'\n",
    "cols = df.columns\n",
    "df2 = pd.DataFrame([['---','---','---','---','---','---','---']], columns=cols)\n",
    "df3 = pd.concat([df2, df])\n",
    "df3.to_csv(\"table.md\", sep=\"|\", index=False)"
   ]
  },
  {
   "cell_type": "code",
   "execution_count": null,
   "metadata": {
    "collapsed": true
   },
   "outputs": [],
   "source": []
  }
 ],
 "metadata": {
  "kernelspec": {
   "display_name": "Python 2",
   "language": "python",
   "name": "python2"
  },
  "language_info": {
   "codemirror_mode": {
    "name": "ipython",
    "version": 2
   },
   "file_extension": ".py",
   "mimetype": "text/x-python",
   "name": "python",
   "nbconvert_exporter": "python",
   "pygments_lexer": "ipython2",
   "version": "2.7.10"
  }
 },
 "nbformat": 4,
 "nbformat_minor": 0
}
